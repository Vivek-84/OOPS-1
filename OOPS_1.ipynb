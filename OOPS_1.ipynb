{
 "cells": [
  {
   "cell_type": "markdown",
   "id": "8abd7508",
   "metadata": {},
   "source": [
    "#  Explain Class and Object with respect to Object-Oriented Programming. Give a suitable example.\n"
   ]
  },
  {
   "cell_type": "markdown",
   "id": "bf0508a9",
   "metadata": {},
   "source": [
    "Class : classes are user defined data type which act as the blue print for individual object, attribute and methods.\n",
    "Object: Objects are instences of the class."
   ]
  },
  {
   "cell_type": "code",
   "execution_count": 1,
   "id": "aca00512",
   "metadata": {},
   "outputs": [
    {
     "data": {
      "text/plain": [
       "'Here Name of the class is Employee'"
      ]
     },
     "execution_count": 1,
     "metadata": {},
     "output_type": "execute_result"
    }
   ],
   "source": [
    "class Employee:\n",
    "    def Info(self):\n",
    "        return (\"Here Name of the class is Employee\")\n",
    "a = Employee()    ## Here a is object or Instence\n",
    "a.Info()     "
   ]
  },
  {
   "cell_type": "markdown",
   "id": "17fa7061",
   "metadata": {},
   "source": [
    "#  Name the four pillars of OOPs.\n"
   ]
  },
  {
   "cell_type": "code",
   "execution_count": 3,
   "id": "2e87b2db",
   "metadata": {},
   "outputs": [],
   "source": [
    "#Polymorphism\n",
    "#Encapsulation\n",
    "#Inheritence\n",
    "#Abstraction"
   ]
  },
  {
   "cell_type": "markdown",
   "id": "f94e9841",
   "metadata": {},
   "source": [
    "# Explain why the __init__() function is used. Give a suitable example"
   ]
  },
  {
   "cell_type": "markdown",
   "id": "2b35a089",
   "metadata": {},
   "source": [
    "In Python init() is a special method known as Constructor. It is autometically called when a object of a class is created.It generally takes attribute as Input.Thats why we use __init__() in oops."
   ]
  },
  {
   "cell_type": "code",
   "execution_count": 6,
   "id": "4409dbc6",
   "metadata": {},
   "outputs": [
    {
     "data": {
      "text/plain": [
       "('The Name of Motor is', 'General Motor', 'Speed is', 550)"
      ]
     },
     "execution_count": 6,
     "metadata": {},
     "output_type": "execute_result"
    }
   ],
   "source": [
    "class Motor:\n",
    "    def __init__(self,name,speed):\n",
    "        self.name = name\n",
    "        self.speed = speed\n",
    "    def Test(self):\n",
    "        return(\"The Name of Motor is\" , self.name, \"Speed is\" , self.speed)\n",
    "a = Motor(\"General Motor\", 550)\n",
    "a.Test()"
   ]
  },
  {
   "cell_type": "markdown",
   "id": "bafb0b3a",
   "metadata": {},
   "source": [
    "#  Why self is used in OOPs\n"
   ]
  },
  {
   "cell_type": "code",
   "execution_count": 8,
   "id": "253c4750",
   "metadata": {},
   "outputs": [
    {
     "data": {
      "text/plain": [
       "' self represents the instance of the class. it allows us to access variable, methods and attributes of a defined\\n class in Python. we can use other name instead of self but self is handy and it improves the readability of the code'"
      ]
     },
     "execution_count": 8,
     "metadata": {},
     "output_type": "execute_result"
    }
   ],
   "source": [
    "''' self represents the instance of the class. it allows us to access variable, methods and attributes of a defined\n",
    " class in Python. we can use other name instead of self but self is handy and it improves the readability of the code'''"
   ]
  },
  {
   "cell_type": "markdown",
   "id": "845c8a5a",
   "metadata": {},
   "source": [
    "# What is inheritance? Give an example for each type of inheritance\n"
   ]
  },
  {
   "cell_type": "markdown",
   "id": "7753aeaf",
   "metadata": {},
   "source": [
    "Inheritence : Allow us to defined a class that inherites al the properties and method from another class.\n",
    "Three Types of Inheritence\n",
    "1. Single Inheritence\n",
    "2. Multilevel Inheritence\n",
    "3. Multiple Inheritence\n",
    "4. Hierarichal Inheritance\n",
    "5. Hybrid Inheritence"
   ]
  },
  {
   "cell_type": "code",
   "execution_count": 9,
   "id": "5197648f",
   "metadata": {},
   "outputs": [
    {
     "data": {
      "text/plain": [
       "'This is output of function 1'"
      ]
     },
     "execution_count": 9,
     "metadata": {},
     "output_type": "execute_result"
    }
   ],
   "source": [
    "# Single Inheritence\n",
    "class class1:\n",
    "    def fun1(self):\n",
    "        return(\"This is output of function 1\")\n",
    "class class2(class1):\n",
    "    def fun2(self):\n",
    "        pass\n",
    "a = class2()\n",
    "a.fun1()"
   ]
  },
  {
   "cell_type": "code",
   "execution_count": 10,
   "id": "b84fa7a4",
   "metadata": {},
   "outputs": [
    {
     "data": {
      "text/plain": [
       "'This is output of function 2'"
      ]
     },
     "execution_count": 10,
     "metadata": {},
     "output_type": "execute_result"
    }
   ],
   "source": [
    "# Multilevel Inheritence\n",
    "class class1:\n",
    "    def fun1(self):\n",
    "        return(\"This is output of function 1\")\n",
    "class class2(class1):\n",
    "    def fun2(self):\n",
    "        return(\"This is output of function 2\")\n",
    "class class3(class2):\n",
    "    def fun3(self):\n",
    "        pass\n",
    "a = class3()\n",
    "a.fun2()"
   ]
  },
  {
   "cell_type": "code",
   "execution_count": 12,
   "id": "41e12411",
   "metadata": {},
   "outputs": [
    {
     "data": {
      "text/plain": [
       "'This is output of function 1'"
      ]
     },
     "execution_count": 12,
     "metadata": {},
     "output_type": "execute_result"
    }
   ],
   "source": [
    "# Multiple Inheritence\n",
    "class class1:\n",
    "    def fun1(self):\n",
    "        return(\"This is output of function 1\")\n",
    "class class2:\n",
    "    def fun2(self):\n",
    "        return(\"This is output of function 2\")\n",
    "class class3(class1,class2):\n",
    "    def fun3(self):\n",
    "        pass\n",
    "a = class3()\n",
    "a.fun1()"
   ]
  },
  {
   "cell_type": "code",
   "execution_count": null,
   "id": "cac01d83",
   "metadata": {},
   "outputs": [],
   "source": []
  }
 ],
 "metadata": {
  "kernelspec": {
   "display_name": "Python 3 (ipykernel)",
   "language": "python",
   "name": "python3"
  },
  "language_info": {
   "codemirror_mode": {
    "name": "ipython",
    "version": 3
   },
   "file_extension": ".py",
   "mimetype": "text/x-python",
   "name": "python",
   "nbconvert_exporter": "python",
   "pygments_lexer": "ipython3",
   "version": "3.10.6"
  }
 },
 "nbformat": 4,
 "nbformat_minor": 5
}
